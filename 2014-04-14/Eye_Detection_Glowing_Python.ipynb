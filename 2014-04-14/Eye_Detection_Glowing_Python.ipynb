{
 "metadata": {
  "name": "Eye_Detection_Glowing_Python"
 },
 "nbformat": 3,
 "nbformat_minor": 0,
 "worksheets": [
  {
   "cells": [
    {
     "cell_type": "code",
     "collapsed": false,
     "input": [
      "import cv\n",
      "im = cv.LoadImage('gradball.jpg')\n",
      "\n",
      "# load the classifiers\n",
      "haarFace = cv.Load('haarcascade_frontalface_default.xml')\n",
      "haarEyes = cv.Load('haarcascade_eye.xml')\n",
      "\n",
      "# running the classifiers\n",
      "storage = cv.CreateMemStorage()\n",
      "detectedFace = cv.HaarDetectObjects(im, haarFace, storage)\n",
      "detectedEyes = cv.HaarDetectObjects(im, haarEyes, storage)"
     ],
     "language": "python",
     "metadata": {},
     "outputs": [],
     "prompt_number": 1
    },
    {
     "cell_type": "code",
     "collapsed": false,
     "input": [
      "# draw a green rectangle where the face is detected\n",
      "if detectedFace:\n",
      " for face in detectedFace:\n",
      "  cv.Rectangle(im,(face[0][0],face[0][1]),\n",
      "               (face[0][0]+face[0][2],face[0][1]+face[0][3]),\n",
      "               cv.RGB(155, 255, 25),2)\n",
      "\n",
      "# draw a purple rectangle where the eye is detected\n",
      "if detectedEyes:\n",
      " for face in detectedEyes:\n",
      "  cv.Rectangle(im,(face[0][0],face[0][1]),\n",
      "               (face[0][0]+face[0][2],face[0][1]+face[0][3]),\n",
      "               cv.RGB(155, 55, 200),2)\n",
      "\n",
      "cv.NamedWindow('Face Detection', cv.CV_WINDOW_AUTOSIZE)\n",
      "cv.ShowImage('Face Detection', im) \n",
      "cv.WaitKey()"
     ],
     "language": "python",
     "metadata": {},
     "outputs": [
      {
       "output_type": "pyout",
       "prompt_number": 2,
       "text": [
        "-1"
       ]
      }
     ],
     "prompt_number": 2
    },
    {
     "cell_type": "code",
     "collapsed": false,
     "input": [],
     "language": "python",
     "metadata": {},
     "outputs": []
    }
   ],
   "metadata": {}
  }
 ]
}