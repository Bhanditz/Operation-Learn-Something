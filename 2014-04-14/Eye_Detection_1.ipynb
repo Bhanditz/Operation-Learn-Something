{
 "metadata": {
  "name": "Eye_Detection_1"
 },
 "nbformat": 3,
 "nbformat_minor": 0,
 "worksheets": [
  {
   "cells": [
    {
     "cell_type": "code",
     "collapsed": false,
     "input": [
      "import cv\n",
      "im = cv.LoadImage('gradball2.jpg')\n",
      "\n",
      "# load the classifiers\n",
      "haarFace = cv.Load('haarcascade_frontalface_default.xml')\n",
      "haarEyes = cv.Load('haarcascade_eye.xml')\n",
      "\n",
      "# running the classifiers\n",
      "storage = cv.CreateMemStorage()\n",
      "detectedFace = cv.HaarDetectObjects(im, haarFace, storage)\n",
      "detectedEyes = cv.HaarDetectObjects(im, haarEyes, storage)"
     ],
     "language": "python",
     "metadata": {},
     "outputs": [],
     "prompt_number": 1
    },
    {
     "cell_type": "code",
     "collapsed": false,
     "input": [
      "num_eyes = 0\n",
      "eyes_in_face = []\n",
      "actual_eyes = []\n",
      "\n",
      "if detectedFace:\n",
      "    for face in detectedFace:\n",
      "        \n",
      "        #only take eyes in face\n",
      "        for eye in detectedEyes:\n",
      "            if eye[0][0] >= face[0][0] and eye[0][1] >= face[0][1] and (eye[0][0] + eye[0][2]) <= (face[0][0]+face[0][2]) and (eye[0][1] + eye[0][3]) <= (face[0][1]+face[0][3]):\n",
      "                eyes_in_face.append(eye)\n",
      "                num_eyes += 1\n",
      "        \n",
      "        #find pair of eyes closest in size, ignore other eyes\n",
      "        if len(eyes_in_face) > 2:\n",
      "            diffs = []\n",
      "            index_1 = []\n",
      "            index_2 = []\n",
      "            for e in range(0, len(eyes_in_face) - 1):\n",
      "                for x in range(e+1, len(eyes_in_face)):\n",
      "                    diff = abs(eyes_in_face[e][0][2] - eyes_in_face[x][0][2])\n",
      "                    index_1.append(e)\n",
      "                    index_2.append(x)\n",
      "                    diffs.append(diff)\n",
      "            \n",
      "            i = diffs.index(min(diffs))\n",
      "\n",
      "            actual_eyes.append(eyes_in_face[index_1[i]])\n",
      "            actual_eyes.append(eyes_in_face[index_2[i]])\n",
      "        else:\n",
      "            actual_eyes = eyes_in_face\n",
      "            \n",
      "        for eye in actual_eyes:\n",
      "            # draw a purple rectangle where an eye is detected, provided the eye is one of two within a face\n",
      "            cv.Rectangle(im,(eye[0][0],eye[0][1]),(eye[0][0]+eye[0][2],eye[0][1]+eye[0][3]), cv.RGB(155, 55, 200),2)\n",
      "            \n",
      "        if num_eyes > 0:\n",
      "            # draw a green rectangle where the face is detected, provided the face contains two eyes\n",
      "            cv.Rectangle(im,(face[0][0],face[0][1]), (face[0][0]+face[0][2],face[0][1]+face[0][3]),cv.RGB(155, 255, 25),2)\n",
      "        \n",
      "        eyes_in_face = []\n",
      "        actual_eyes = []\n",
      "\n",
      "cv.NamedWindow('Face Detection', cv.CV_WINDOW_AUTOSIZE)\n",
      "cv.ShowImage('Face Detection', im) \n",
      "cv.WaitKey()"
     ],
     "language": "python",
     "metadata": {},
     "outputs": [
      {
       "output_type": "pyout",
       "prompt_number": 2,
       "text": [
        "-1"
       ]
      }
     ],
     "prompt_number": 2
    },
    {
     "cell_type": "code",
     "collapsed": false,
     "input": [],
     "language": "python",
     "metadata": {},
     "outputs": []
    }
   ],
   "metadata": {}
  }
 ]
}