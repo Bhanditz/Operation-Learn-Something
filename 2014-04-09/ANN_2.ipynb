{
 "metadata": {
  "name": "ANN_2"
 },
 "nbformat": 3,
 "nbformat_minor": 0,
 "worksheets": [
  {
   "cells": [
    {
     "cell_type": "code",
     "collapsed": false,
     "input": [
      "import math\n",
      "import random\n",
      "\n",
      "def sigmoid(x):\n",
      "  return 1 / (1 + math.exp(-x))\n",
      "\n",
      "class Neuron:\n",
      "    def __init__(self, weights, inputs, desired):\n",
      "        self.weights_list = weights\n",
      "        self.inputs = inputs\n",
      "        self.error = 0\n",
      "        self.output = 0\n",
      "    \n",
      "        self.calc_output()\n",
      "        self.calc_error(desired)\n",
      "            \n",
      "    def calc_output(self):\n",
      "        activation = 0\n",
      "        for i in range(0, len(self.inputs)):\n",
      "            activation += self.inputs[i] * self.weights_list[i]\n",
      "        self.output = sigmoid(activation)\n",
      "        #self.output = activation\n",
      "        \n",
      "    def calc_error(self, desired) :  \n",
      "        self.error = 0.5*pow((self.output - desired),2)\n",
      "        \n",
      "class Layer:\n",
      "     def __init__(self, inputs, numneurons, desired):\n",
      "        self.numInputs = 0\n",
      "        self.update_numInputs(inputs)\n",
      "        self.numNeurons = 0\n",
      "        self.update_numNeurons(numneurons)\n",
      "        self.layer_neurons = []\n",
      "        self.create_neurons(inputs, desired)\n",
      "        \n",
      "     def update_numInputs(self, inputs):\n",
      "        self.numInputs = len(inputs)\n",
      "        \n",
      "     def update_numNeurons(self,numneurons):\n",
      "        self.numNeurons = numneurons\n",
      "        \n",
      "     def create_neurons(self, inputs, desired):\n",
      "        for n in range(0, self.numNeurons):\n",
      "            w = self.randomize_weights()\n",
      "            self.layer_neurons.append(Neuron(w, inputs, desired))\n",
      "                                                       \n",
      "     def randomize_weights(self):\n",
      "        weights = []\n",
      "        for i in range(0, self.numInputs):\n",
      "            t = random.uniform(-10, 10)\n",
      "            weights.append (t)\n",
      "        return weights\n",
      "    \n",
      "class Net:\n",
      "     def __init__(self, inputs, numLayers, numNeurons, numOutputs, desired):\n",
      "        self.inputs = inputs\n",
      "        self.numLayers = numLayers\n",
      "        self.numOutputs = numOutputs\n",
      "        self.layers_list = []\n",
      "        self.outLayer = 0\n",
      "        self.create_layers(inputs, numLayers, numNeurons, numOutputs, desired) \n",
      "        \n",
      "     def create_layers(self, inputs, numLayers, numNeurons, numOutputs, desired):\n",
      "        for l in range(0, self.numLayers): \n",
      "            self.layers_list.append(Layer(inputs, numNeurons, desired))\n",
      "            inputs = []\n",
      "            for n in range(0, numNeurons):\n",
      "                inputs.append(self.layers_list[l].layer_neurons[n].output)\n",
      "        self.outLayer = Layer(inputs, numOutputs, desired)\n",
      "     \n",
      "     def print_output(self):\n",
      "        for x in range(0, self.numOutputs):\n",
      "            print \"Output \" + str(x) + \" : \" + str(self.outLayer.layer_neurons[x].output)\n",
      "    \n",
      "                                                   "
     ],
     "language": "python",
     "metadata": {},
     "outputs": [],
     "prompt_number": 130
    },
    {
     "cell_type": "code",
     "collapsed": false,
     "input": [
      "i = [1, 1]\n",
      "d = 0.7\n",
      "\n",
      "net = Net(inputs, 2, 2, 1, d)\n",
      "net.print_output()\n",
      "\n"
     ],
     "language": "python",
     "metadata": {},
     "outputs": [
      {
       "output_type": "stream",
       "stream": "stdout",
       "text": [
        "Output 0 : 0.97837709926\n"
       ]
      }
     ],
     "prompt_number": 134
    },
    {
     "cell_type": "code",
     "collapsed": false,
     "input": [],
     "language": "python",
     "metadata": {},
     "outputs": [],
     "prompt_number": 132
    },
    {
     "cell_type": "code",
     "collapsed": false,
     "input": [],
     "language": "python",
     "metadata": {},
     "outputs": []
    }
   ],
   "metadata": {}
  }
 ]
}