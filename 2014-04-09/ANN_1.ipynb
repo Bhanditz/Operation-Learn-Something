{
 "metadata": {
  "name": "ANN_1"
 },
 "nbformat": 3,
 "nbformat_minor": 0,
 "worksheets": [
  {
   "cells": [
    {
     "cell_type": "code",
     "collapsed": false,
     "input": [
      "class Neuron:\n",
      "    def __init__(self, weights):\n",
      "        self.weights_list = []\n",
      "        self.update_weights(weights)\n",
      "    def update_weights(self, weights):\n",
      "        for w in weights:\n",
      "            self.weights_list.append(w)\n",
      "    def calc_output(self, inputs):\n",
      "        output = 0\n",
      "        for i in inputs:\n",
      "            output += i * self.weights_list[inputs.index(i)]\n",
      "        return output "
     ],
     "language": "python",
     "metadata": {},
     "outputs": [],
     "prompt_number": 39
    },
    {
     "cell_type": "code",
     "collapsed": false,
     "input": [
      "w1 = [1]\n",
      "w2 = [0, 1]\n",
      "w3 = [1, 0]\n",
      "\n",
      "i = [2, 1]\n",
      "\n",
      "input_n1 = Neuron(w1)\n",
      "input_n2 = Neuron(w1)\n",
      "\n",
      "input_layer = [input_n1, input_n2]\n",
      "input_layer_output = []\n",
      "\n",
      "for n in input_layer:\n",
      "    out = n.calc_output([i[input_layer.index(n)]])\n",
      "    input_layer_output.append(out)\n",
      "    \n",
      "output_n1 = Neuron(w2)\n",
      "output_n2 = Neuron(w3)\n",
      "\n",
      "output_layer = [output_n1, output_n2]\n",
      "output_layer_i = input_layer_output\n",
      "output_layer_output = []\n",
      "\n",
      "for n in output_layer:\n",
      "    output_layer_output.append(n.calc_output(output_layer_i))\n",
      "    \n",
      "print output_layer_output"
     ],
     "language": "python",
     "metadata": {},
     "outputs": [
      {
       "output_type": "stream",
       "stream": "stdout",
       "text": [
        "[1, 2]\n"
       ]
      }
     ],
     "prompt_number": 82
    },
    {
     "cell_type": "code",
     "collapsed": false,
     "input": [],
     "language": "python",
     "metadata": {},
     "outputs": [],
     "prompt_number": 61
    },
    {
     "cell_type": "code",
     "collapsed": false,
     "input": [],
     "language": "python",
     "metadata": {},
     "outputs": []
    }
   ],
   "metadata": {}
  }
 ]
}