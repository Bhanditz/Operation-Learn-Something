{
 "metadata": {
  "name": "ANN_1"
 },
 "nbformat": 3,
 "nbformat_minor": 0,
 "worksheets": [
  {
   "cells": [
    {
     "cell_type": "code",
     "collapsed": false,
     "input": [
      "import math\n",
      "\n",
      "def sigmoid(x):\n",
      "  return 1 / (1 + math.exp(-x))\n",
      "\n",
      "class Neuron:\n",
      "    def __init__(self, weights, inputs, desired):\n",
      "        self.weights_list = []\n",
      "        self.update_weights(weights)\n",
      "        \n",
      "        self.error = 0\n",
      "        self.output = 0\n",
      "        \n",
      "        self.calc_output(inputs)\n",
      "        self.calc_error(desired)\n",
      "        \n",
      "        \n",
      "    def update_weights(self, weights):\n",
      "        for w in weights:\n",
      "            self.weights_list.append(w)\n",
      "            \n",
      "    def calc_output(self, inputs):\n",
      "        activation = 0\n",
      "        for i in inputs:\n",
      "            activation += i * self.weights_list[inputs.index(i)]\n",
      "        self.output = sigmoid(activation)\n",
      "        #self.output = activation\n",
      "        \n",
      "    def calc_error(self, desired) :  \n",
      "        self.error = 0.5*pow((self.output - desired),2)"
     ],
     "language": "python",
     "metadata": {},
     "outputs": [],
     "prompt_number": 71
    },
    {
     "cell_type": "code",
     "collapsed": false,
     "input": [
      "w1 = [1, 1]\n",
      "w2 = [1, 1]\n",
      "w3 = [1, 1]\n",
      "\n",
      "i = [0.5, 0.5]\n",
      "d = 0.5\n",
      "learn_rate = 0.1\n",
      "\n",
      "l1_n1 = Neuron(w1, i, d)\n",
      "l1_n2 = Neuron(w2, i, d)\n",
      "\n",
      "print l1_n1.output\n",
      "print l1_n2.output\n",
      "\n",
      "i2 = [l1_n1.output, l1_n2.output]\n",
      "\n",
      "l2_n1 = Neuron(w3, i2, d)\n",
      "\n",
      "error = l2_n1.error\n",
      "\n",
      "print l2_n1.output\n",
      "\n",
      "print error"
     ],
     "language": "python",
     "metadata": {},
     "outputs": [
      {
       "output_type": "stream",
       "stream": "stdout",
       "text": [
        "0.73105857863\n",
        "0.73105857863\n",
        "0.811856274913\n",
        "0.0486271681013\n"
       ]
      }
     ],
     "prompt_number": 72
    },
    {
     "cell_type": "code",
     "collapsed": false,
     "input": [],
     "language": "python",
     "metadata": {},
     "outputs": []
    }
   ],
   "metadata": {}
  }
 ]
}