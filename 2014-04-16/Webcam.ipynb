{
 "metadata": {
  "name": "Webcam"
 },
 "nbformat": 3,
 "nbformat_minor": 0,
 "worksheets": [
  {
   "cells": [
    {
     "cell_type": "code",
     "collapsed": false,
     "input": [
      "import cv2\n",
      "\n",
      "def diffImg(t0, t1, t2):\n",
      "  d1 = cv2.absdiff(t2, t1)\n",
      "  d2 = cv2.absdiff(t1, t0)\n",
      "  return cv2.bitwise_and(d1, d2)\n",
      "\n",
      "def blobSmoothing(immask):\n",
      "        imfilter = cv2.medianBlur(immask,7)\n",
      "        imfilter = cv2.medianBlur(imfilter,5)\n",
      "        #imfilter = cv2.medianBlur(imfilter,3)\n",
      "\n",
      "        kernel = cv2.getStructuringElement(cv2.MORPH_RECT,(5,5))\n",
      "\n",
      "        imfilter = cv2.dilate(imfilter,kernel)\n",
      "        imfilter = cv2.erode(imfilter,kernel)\n",
      "        return imfilter\n",
      "\n",
      "cam = cv2.VideoCapture(0)\n",
      "\n",
      "winName = \"Movement Indicator\"\n",
      "cv2.namedWindow(winName, cv2.CV_WINDOW_AUTOSIZE)\n",
      "\n",
      "# Read three images first:\n",
      "t_minus = cv2.cvtColor(cam.read()[1], cv2.COLOR_RGB2GRAY)\n",
      "t = cv2.cvtColor(cam.read()[1], cv2.COLOR_RGB2GRAY)\n",
      "t_plus = cv2.cvtColor(cam.read()[1], cv2.COLOR_RGB2GRAY)\n",
      "\n",
      "while True:\n",
      "  x_tot = 0\n",
      "  y_tot = 0\n",
      "  im2show = diffImg(t_minus, t, t_plus)\n",
      "  #im2show = cv2.inRange(im2show,0,200) \n",
      "  #contours, hierarchy = cv2.findContours(im2show,cv2.RETR_TREE,cv2.CHAIN_APPROX_SIMPLE)\n",
      "  #cv2.drawContours(im2show, contours, -1, (0,255,0), -1)\n",
      "    \n",
      "  (thresh, im_bw) = cv2.threshold(im2show, 20, 255, cv2.THRESH_BINARY)\n",
      "  im2show = blobSmoothing(im_bw)\n",
      "  contours, hierarchy = cv2.findContours(im_bw,cv2.RETR_TREE,cv2.CHAIN_APPROX_SIMPLE)\n",
      "  if len(contours) > 0:\n",
      "      for cnt in contours:\n",
      "            \n",
      "            M = cv2.moments(cnt)\n",
      "            if M['m00'] > 0:\n",
      "                centroid_x = int(M['m10']/M['m00'])\n",
      "                centroid_y = int(M['m01']/M['m00'])\n",
      "                x_tot += centroid_x\n",
      "                y_tot += centroid_y\n",
      "                x_mean = x_tot/len(contours)\n",
      "                y_mean = y_tot/len(contours)\n",
      "                cv2.circle(im2show,(x_mean, y_mean),40,(0,255,0),2)\n",
      "      #cv2.drawContours(im2show, contours, -1, (0,255,0), -1)\n",
      "  cv2.imshow( winName, im2show )\n",
      "\n",
      "  # Read next image\n",
      "  t_minus = t\n",
      "  t = t_plus\n",
      "  t_plus = cv2.cvtColor(cam.read()[1], cv2.COLOR_RGB2GRAY)\n",
      "\n",
      "  key = cv2.waitKey(10)\n",
      "  if key == 27:\n",
      "    cv2.destroyWindow(winName)\n",
      "    break\n",
      "\n",
      "print \"Goodbye\"\n",
      "\n",
      "\n"
     ],
     "language": "python",
     "metadata": {},
     "outputs": [
      {
       "output_type": "stream",
       "stream": "stdout",
       "text": [
        "Goodbye\n"
       ]
      }
     ],
     "prompt_number": 1
    },
    {
     "cell_type": "code",
     "collapsed": false,
     "input": [],
     "language": "python",
     "metadata": {},
     "outputs": []
    }
   ],
   "metadata": {}
  }
 ]
}